{
 "cells": [
  {
   "cell_type": "markdown",
   "metadata": {},
   "source": [
    "# データ解析基礎講座　二日目　テーマ：分布の特性と相関"
   ]
  },
  {
   "cell_type": "markdown",
   "metadata": {},
   "source": [
    "## 基本統計量の表示"
   ]
  },
  {
   "cell_type": "markdown",
   "metadata": {},
   "source": [
    "分布の特性を見るために、基本統計量を表示させます。まずデータを読み込みます。"
   ]
  },
  {
   "cell_type": "code",
   "execution_count": 1,
   "metadata": {},
   "outputs": [
    {
     "data": {
      "text/html": [
       "<div>\n",
       "<style scoped>\n",
       "    .dataframe tbody tr th:only-of-type {\n",
       "        vertical-align: middle;\n",
       "    }\n",
       "\n",
       "    .dataframe tbody tr th {\n",
       "        vertical-align: top;\n",
       "    }\n",
       "\n",
       "    .dataframe thead th {\n",
       "        text-align: right;\n",
       "    }\n",
       "</style>\n",
       "<table border=\"1\" class=\"dataframe\">\n",
       "  <thead>\n",
       "    <tr style=\"text-align: right;\">\n",
       "      <th></th>\n",
       "      <th>県名</th>\n",
       "      <th>実収入</th>\n",
       "      <th>世帯主収入</th>\n",
       "      <th>消費支出</th>\n",
       "      <th>食料費割合</th>\n",
       "      <th>住居費割合</th>\n",
       "      <th>光熱・水道費割合</th>\n",
       "      <th>家具・家事用品費割合</th>\n",
       "      <th>被服及び履物費割合</th>\n",
       "      <th>保健医療費割合</th>\n",
       "    </tr>\n",
       "    <tr>\n",
       "      <th>コード</th>\n",
       "      <th></th>\n",
       "      <th></th>\n",
       "      <th></th>\n",
       "      <th></th>\n",
       "      <th></th>\n",
       "      <th></th>\n",
       "      <th></th>\n",
       "      <th></th>\n",
       "      <th></th>\n",
       "      <th></th>\n",
       "    </tr>\n",
       "  </thead>\n",
       "  <tbody>\n",
       "    <tr>\n",
       "      <th>1</th>\n",
       "      <td>北 海 道</td>\n",
       "      <td>529.9</td>\n",
       "      <td>422.7</td>\n",
       "      <td>287.3</td>\n",
       "      <td>24.2</td>\n",
       "      <td>5.9</td>\n",
       "      <td>8.5</td>\n",
       "      <td>3.3</td>\n",
       "      <td>3.9</td>\n",
       "      <td>4.3</td>\n",
       "    </tr>\n",
       "    <tr>\n",
       "      <th>2</th>\n",
       "      <td>青 森 県</td>\n",
       "      <td>442.9</td>\n",
       "      <td>333.4</td>\n",
       "      <td>236.8</td>\n",
       "      <td>29.2</td>\n",
       "      <td>4.0</td>\n",
       "      <td>11.3</td>\n",
       "      <td>4.1</td>\n",
       "      <td>3.3</td>\n",
       "      <td>4.2</td>\n",
       "    </tr>\n",
       "    <tr>\n",
       "      <th>3</th>\n",
       "      <td>岩 手 県</td>\n",
       "      <td>522.9</td>\n",
       "      <td>403.5</td>\n",
       "      <td>289.0</td>\n",
       "      <td>24.6</td>\n",
       "      <td>5.2</td>\n",
       "      <td>8.7</td>\n",
       "      <td>3.7</td>\n",
       "      <td>3.8</td>\n",
       "      <td>5.1</td>\n",
       "    </tr>\n",
       "    <tr>\n",
       "      <th>4</th>\n",
       "      <td>宮 城 県</td>\n",
       "      <td>419.9</td>\n",
       "      <td>341.5</td>\n",
       "      <td>281.0</td>\n",
       "      <td>26.4</td>\n",
       "      <td>6.5</td>\n",
       "      <td>7.8</td>\n",
       "      <td>4.0</td>\n",
       "      <td>4.1</td>\n",
       "      <td>5.1</td>\n",
       "    </tr>\n",
       "    <tr>\n",
       "      <th>5</th>\n",
       "      <td>秋 田 県</td>\n",
       "      <td>459.0</td>\n",
       "      <td>343.4</td>\n",
       "      <td>255.2</td>\n",
       "      <td>25.6</td>\n",
       "      <td>5.4</td>\n",
       "      <td>9.6</td>\n",
       "      <td>3.7</td>\n",
       "      <td>3.1</td>\n",
       "      <td>5.4</td>\n",
       "    </tr>\n",
       "  </tbody>\n",
       "</table>\n",
       "</div>"
      ],
      "text/plain": [
       "        県名    実収入  世帯主収入   消費支出  食料費割合  住居費割合  光熱・水道費割合  家具・家事用品費割合  \\\n",
       "コード                                                                   \n",
       "1    北 海 道  529.9  422.7  287.3   24.2    5.9       8.5         3.3   \n",
       "2    青 森 県  442.9  333.4  236.8   29.2    4.0      11.3         4.1   \n",
       "3    岩 手 県  522.9  403.5  289.0   24.6    5.2       8.7         3.7   \n",
       "4    宮 城 県  419.9  341.5  281.0   26.4    6.5       7.8         4.0   \n",
       "5    秋 田 県  459.0  343.4  255.2   25.6    5.4       9.6         3.7   \n",
       "\n",
       "     被服及び履物費割合  保健医療費割合  \n",
       "コード                      \n",
       "1          3.9      4.3  \n",
       "2          3.3      4.2  \n",
       "3          3.8      5.1  \n",
       "4          4.1      5.1  \n",
       "5          3.1      5.4  "
      ]
     },
     "execution_count": 1,
     "metadata": {},
     "output_type": "execute_result"
    }
   ],
   "source": [
    "import pandas as pd\n",
    "df1=pd.read_excel('データ解析講座二日目演習.xlsx',sheet_name='家計指標',index_col=0)\n",
    "df1.head()"
   ]
  },
  {
   "cell_type": "markdown",
   "metadata": {},
   "source": [
    "この中で、列「消費支出」について、基本統計量を表示させます。"
   ]
  },
  {
   "cell_type": "code",
   "execution_count": 2,
   "metadata": {},
   "outputs": [
    {
     "data": {
      "text/plain": [
       "count     47.000000\n",
       "mean     287.059574\n",
       "std       24.504185\n",
       "min      236.800000\n",
       "25%      271.350000\n",
       "50%      287.300000\n",
       "75%      302.400000\n",
       "max      333.400000\n",
       "Name: 消費支出, dtype: float64"
      ]
     },
     "execution_count": 2,
     "metadata": {},
     "output_type": "execute_result"
    }
   ],
   "source": [
    "df1['消費支出'].describe()"
   ]
  },
  {
   "cell_type": "markdown",
   "metadata": {},
   "source": [
    "describe()では表示されない合計(sum)、歪度(skew)、尖度(kurt)について、別途求めます。"
   ]
  },
  {
   "cell_type": "code",
   "execution_count": 3,
   "metadata": {},
   "outputs": [
    {
     "data": {
      "text/plain": [
       "13491.799999999997"
      ]
     },
     "execution_count": 3,
     "metadata": {},
     "output_type": "execute_result"
    }
   ],
   "source": [
    "df1['消費支出'].sum()"
   ]
  },
  {
   "cell_type": "code",
   "execution_count": 4,
   "metadata": {},
   "outputs": [
    {
     "data": {
      "text/plain": [
       "-0.06168902903116612"
      ]
     },
     "execution_count": 4,
     "metadata": {},
     "output_type": "execute_result"
    }
   ],
   "source": [
    "df1['消費支出'].skew()"
   ]
  },
  {
   "cell_type": "code",
   "execution_count": 5,
   "metadata": {
    "scrolled": true
   },
   "outputs": [
    {
     "data": {
      "text/plain": [
       "-0.6766033474485464"
      ]
     },
     "execution_count": 5,
     "metadata": {},
     "output_type": "execute_result"
    }
   ],
   "source": [
    "df1['消費支出'].kurt()"
   ]
  },
  {
   "cell_type": "markdown",
   "metadata": {},
   "source": [
    "## データの標準化"
   ]
  },
  {
   "cell_type": "markdown",
   "metadata": {},
   "source": [
    "次に、データの各列が平均0、標準偏差1になるように標準化します。まず例題データを準備します。"
   ]
  },
  {
   "cell_type": "code",
   "execution_count": 6,
   "metadata": {},
   "outputs": [
    {
     "data": {
      "text/html": [
       "<div>\n",
       "<style scoped>\n",
       "    .dataframe tbody tr th:only-of-type {\n",
       "        vertical-align: middle;\n",
       "    }\n",
       "\n",
       "    .dataframe tbody tr th {\n",
       "        vertical-align: top;\n",
       "    }\n",
       "\n",
       "    .dataframe thead th {\n",
       "        text-align: right;\n",
       "    }\n",
       "</style>\n",
       "<table border=\"1\" class=\"dataframe\">\n",
       "  <thead>\n",
       "    <tr style=\"text-align: right;\">\n",
       "      <th></th>\n",
       "      <th>実収入</th>\n",
       "      <th>世帯主収入</th>\n",
       "      <th>消費支出</th>\n",
       "      <th>食料費割合</th>\n",
       "    </tr>\n",
       "    <tr>\n",
       "      <th>コード</th>\n",
       "      <th></th>\n",
       "      <th></th>\n",
       "      <th></th>\n",
       "      <th></th>\n",
       "    </tr>\n",
       "  </thead>\n",
       "  <tbody>\n",
       "    <tr>\n",
       "      <th>1</th>\n",
       "      <td>529.9</td>\n",
       "      <td>422.7</td>\n",
       "      <td>287.3</td>\n",
       "      <td>24.2</td>\n",
       "    </tr>\n",
       "    <tr>\n",
       "      <th>2</th>\n",
       "      <td>442.9</td>\n",
       "      <td>333.4</td>\n",
       "      <td>236.8</td>\n",
       "      <td>29.2</td>\n",
       "    </tr>\n",
       "    <tr>\n",
       "      <th>3</th>\n",
       "      <td>522.9</td>\n",
       "      <td>403.5</td>\n",
       "      <td>289.0</td>\n",
       "      <td>24.6</td>\n",
       "    </tr>\n",
       "    <tr>\n",
       "      <th>4</th>\n",
       "      <td>419.9</td>\n",
       "      <td>341.5</td>\n",
       "      <td>281.0</td>\n",
       "      <td>26.4</td>\n",
       "    </tr>\n",
       "    <tr>\n",
       "      <th>5</th>\n",
       "      <td>459.0</td>\n",
       "      <td>343.4</td>\n",
       "      <td>255.2</td>\n",
       "      <td>25.6</td>\n",
       "    </tr>\n",
       "  </tbody>\n",
       "</table>\n",
       "</div>"
      ],
      "text/plain": [
       "       実収入  世帯主収入   消費支出  食料費割合\n",
       "コード                            \n",
       "1    529.9  422.7  287.3   24.2\n",
       "2    442.9  333.4  236.8   29.2\n",
       "3    522.9  403.5  289.0   24.6\n",
       "4    419.9  341.5  281.0   26.4\n",
       "5    459.0  343.4  255.2   25.6"
      ]
     },
     "execution_count": 6,
     "metadata": {},
     "output_type": "execute_result"
    }
   ],
   "source": [
    "df11=df1.loc[:,['実収入','世帯主収入','消費支出','食料費割合']]\n",
    "df11.head()"
   ]
  },
  {
   "cell_type": "markdown",
   "metadata": {},
   "source": [
    "次に、標準化の計算をします。"
   ]
  },
  {
   "cell_type": "code",
   "execution_count": 7,
   "metadata": {},
   "outputs": [
    {
     "data": {
      "text/html": [
       "<div>\n",
       "<style scoped>\n",
       "    .dataframe tbody tr th:only-of-type {\n",
       "        vertical-align: middle;\n",
       "    }\n",
       "\n",
       "    .dataframe tbody tr th {\n",
       "        vertical-align: top;\n",
       "    }\n",
       "\n",
       "    .dataframe thead th {\n",
       "        text-align: right;\n",
       "    }\n",
       "</style>\n",
       "<table border=\"1\" class=\"dataframe\">\n",
       "  <thead>\n",
       "    <tr style=\"text-align: right;\">\n",
       "      <th></th>\n",
       "      <th>実収入</th>\n",
       "      <th>世帯主収入</th>\n",
       "      <th>消費支出</th>\n",
       "      <th>食料費割合</th>\n",
       "    </tr>\n",
       "    <tr>\n",
       "      <th>コード</th>\n",
       "      <th></th>\n",
       "      <th></th>\n",
       "      <th></th>\n",
       "      <th></th>\n",
       "    </tr>\n",
       "  </thead>\n",
       "  <tbody>\n",
       "    <tr>\n",
       "      <th>1</th>\n",
       "      <td>-0.027609</td>\n",
       "      <td>0.260504</td>\n",
       "      <td>0.009918</td>\n",
       "      <td>-0.595003</td>\n",
       "    </tr>\n",
       "    <tr>\n",
       "      <th>2</th>\n",
       "      <td>-1.574099</td>\n",
       "      <td>-1.627203</td>\n",
       "      <td>-2.073235</td>\n",
       "      <td>2.246982</td>\n",
       "    </tr>\n",
       "    <tr>\n",
       "      <th>3</th>\n",
       "      <td>-0.152039</td>\n",
       "      <td>-0.145364</td>\n",
       "      <td>0.080044</td>\n",
       "      <td>-0.367644</td>\n",
       "    </tr>\n",
       "    <tr>\n",
       "      <th>4</th>\n",
       "      <td>-1.982941</td>\n",
       "      <td>-1.455977</td>\n",
       "      <td>-0.249961</td>\n",
       "      <td>0.655471</td>\n",
       "    </tr>\n",
       "    <tr>\n",
       "      <th>5</th>\n",
       "      <td>-1.287910</td>\n",
       "      <td>-1.415813</td>\n",
       "      <td>-1.314225</td>\n",
       "      <td>0.200753</td>\n",
       "    </tr>\n",
       "  </tbody>\n",
       "</table>\n",
       "</div>"
      ],
      "text/plain": [
       "          実収入     世帯主収入      消費支出     食料費割合\n",
       "コード                                        \n",
       "1   -0.027609  0.260504  0.009918 -0.595003\n",
       "2   -1.574099 -1.627203 -2.073235  2.246982\n",
       "3   -0.152039 -0.145364  0.080044 -0.367644\n",
       "4   -1.982941 -1.455977 -0.249961  0.655471\n",
       "5   -1.287910 -1.415813 -1.314225  0.200753"
      ]
     },
     "execution_count": 7,
     "metadata": {},
     "output_type": "execute_result"
    }
   ],
   "source": [
    "df12 = (df11-df11.mean())/df11.std(ddof=0)\n",
    "df12.head()"
   ]
  },
  {
   "cell_type": "markdown",
   "metadata": {},
   "source": [
    "## 相関係数"
   ]
  },
  {
   "cell_type": "markdown",
   "metadata": {},
   "source": [
    "次に、一日目で多変量連関図を描いた都道府県別家計指標ついての相関係数を表示させます。"
   ]
  },
  {
   "cell_type": "code",
   "execution_count": 8,
   "metadata": {},
   "outputs": [
    {
     "data": {
      "text/html": [
       "<div>\n",
       "<style scoped>\n",
       "    .dataframe tbody tr th:only-of-type {\n",
       "        vertical-align: middle;\n",
       "    }\n",
       "\n",
       "    .dataframe tbody tr th {\n",
       "        vertical-align: top;\n",
       "    }\n",
       "\n",
       "    .dataframe thead th {\n",
       "        text-align: right;\n",
       "    }\n",
       "</style>\n",
       "<table border=\"1\" class=\"dataframe\">\n",
       "  <thead>\n",
       "    <tr style=\"text-align: right;\">\n",
       "      <th></th>\n",
       "      <th>実収入</th>\n",
       "      <th>消費支出</th>\n",
       "      <th>食料費割合</th>\n",
       "    </tr>\n",
       "  </thead>\n",
       "  <tbody>\n",
       "    <tr>\n",
       "      <th>実収入</th>\n",
       "      <td>1.000000</td>\n",
       "      <td>0.763295</td>\n",
       "      <td>-0.439501</td>\n",
       "    </tr>\n",
       "    <tr>\n",
       "      <th>消費支出</th>\n",
       "      <td>0.763295</td>\n",
       "      <td>1.000000</td>\n",
       "      <td>-0.555642</td>\n",
       "    </tr>\n",
       "    <tr>\n",
       "      <th>食料費割合</th>\n",
       "      <td>-0.439501</td>\n",
       "      <td>-0.555642</td>\n",
       "      <td>1.000000</td>\n",
       "    </tr>\n",
       "  </tbody>\n",
       "</table>\n",
       "</div>"
      ],
      "text/plain": [
       "            実収入      消費支出     食料費割合\n",
       "実収入    1.000000  0.763295 -0.439501\n",
       "消費支出   0.763295  1.000000 -0.555642\n",
       "食料費割合 -0.439501 -0.555642  1.000000"
      ]
     },
     "execution_count": 8,
     "metadata": {},
     "output_type": "execute_result"
    }
   ],
   "source": [
    "df21=df1.loc[:,['実収入','消費支出','食料費割合']]\n",
    "df21.corr()"
   ]
  },
  {
   "cell_type": "markdown",
   "metadata": {},
   "source": [
    "応用として、seabornライブラリを用いて「相関係数ヒートマップ」を表示させると、相関係数の大きさがより直感的にわかりやすくなります。"
   ]
  },
  {
   "cell_type": "code",
   "execution_count": 9,
   "metadata": {},
   "outputs": [
    {
     "data": {
      "text/plain": [
       "<AxesSubplot:>"
      ]
     },
     "execution_count": 9,
     "metadata": {},
     "output_type": "execute_result"
    },
    {
     "data": {
      "image/png": "[encoded data removed]",
      "text/plain": [
       "<Figure size 432x288 with 2 Axes>"
      ]
     },
     "metadata": {},
     "output_type": "display_data"
    }
   ],
   "source": [
    "import seaborn as sns\n",
    "import matplotlib as mpl\n",
    "sns.set(font=['MS Gothic'])\n",
    "sns.heatmap(df21.corr(),cmap=sns.color_palette('coolwarm',10),annot=True,fmt='.2f',vmin=-1,vmax=1)"
   ]
  }
 ],
 "metadata": {
  "kernelspec": {
   "display_name": "Python 3",
   "language": "python",
   "name": "python3"
  },
  "language_info": {
   "codemirror_mode": {
    "name": "ipython",
    "version": 3
   },
   "file_extension": ".py",
   "mimetype": "text/x-python",
   "name": "python",
   "nbconvert_exporter": "python",
   "pygments_lexer": "ipython3",
   "version": "3.8.5"
  },
  "toc": {
   "base_numbering": 1,
   "nav_menu": {},
   "number_sections": true,
   "sideBar": true,
   "skip_h1_title": false,
   "title_cell": "Table of Contents",
   "title_sidebar": "Contents",
   "toc_cell": false,
   "toc_position": {},
   "toc_section_display": true,
   "toc_window_display": false
  },
  "varInspector": {
   "cols": {
    "lenName": 16,
    "lenType": 16,
    "lenVar": 40
   },
   "kernels_config": {
    "python": {
     "delete_cmd_postfix": "",
     "delete_cmd_prefix": "del ",
     "library": "var_list.py",
     "varRefreshCmd": "print(var_dic_list())"
    },
    "r": {
     "delete_cmd_postfix": ") ",
     "delete_cmd_prefix": "rm(",
     "library": "var_list.r",
     "varRefreshCmd": "cat(var_dic_list()) "
    }
   },
   "types_to_exclude": [
    "module",
    "function",
    "builtin_function_or_method",
    "instance",
    "_Feature"
   ],
   "window_display": false
  }
 },
 "nbformat": 4,
 "nbformat_minor": 4
}
